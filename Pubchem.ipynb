{
  "nbformat": 4,
  "nbformat_minor": 0,
  "metadata": {
    "colab": {
      "name": "Untitled1.ipynb",
      "provenance": [],
      "collapsed_sections": [],
      "authorship_tag": "ABX9TyO7WRgy98QfPCfGDguRCuyF",
      "include_colab_link": true
    },
    "kernelspec": {
      "name": "python3",
      "display_name": "Python 3"
    },
    "language_info": {
      "name": "python"
    }
  },
  "cells": [
    {
      "cell_type": "markdown",
      "metadata": {
        "id": "view-in-github",
        "colab_type": "text"
      },
      "source": [
        "<a href=\"https://colab.research.google.com/github/ecarosati/cadd_tools/blob/main/Pubchem.ipynb\" target=\"_parent\"><img src=\"https://colab.research.google.com/assets/colab-badge.svg\" alt=\"Open In Colab\"/></a>"
      ]
    },
    {
      "cell_type": "code",
      "source": [
        "# Installiamo il modulo pubchempy\n",
        "!pip install pubchempy"
      ],
      "metadata": {
        "colab": {
          "base_uri": "https://localhost:8080/"
        },
        "id": "di0bj-BhOM6U",
        "outputId": "bf1c5e81-5bf9-4fc6-f80e-b4c96d6d3085"
      },
      "execution_count": 41,
      "outputs": [
        {
          "output_type": "stream",
          "name": "stdout",
          "text": [
            "Collecting pubchempy\n",
            "  Downloading PubChemPy-1.0.4.tar.gz (29 kB)\n",
            "Building wheels for collected packages: pubchempy\n",
            "  Building wheel for pubchempy (setup.py) ... \u001b[?25l\u001b[?25hdone\n",
            "  Created wheel for pubchempy: filename=PubChemPy-1.0.4-py3-none-any.whl size=13834 sha256=9f118495dfed78873eb27cc4dcca33a035be31de67ec5338f64d4759517fac54\n",
            "  Stored in directory: /root/.cache/pip/wheels/7c/3d/8c/8192697412e9899dc55bbbb08bbc1197bef333caaa2a71c448\n",
            "Successfully built pubchempy\n",
            "Installing collected packages: pubchempy\n",
            "Successfully installed pubchempy-1.0.4\n"
          ]
        }
      ]
    },
    {
      "cell_type": "code",
      "source": [
        "# Importiamo il modulo pubchempy\n",
        "\n",
        "import pubchempy as pcp\n",
        "\n",
        "# Estraiamo le informazioni da una lista di cids\n",
        "\n",
        "#my_cid = \"643460\"\n",
        "my_cids = [\"2244\", \"643460\"]\n",
        "\n",
        "#my_cpd = pcp.Compound.from_cid(my_cid)\n",
        "#print(\"MOLECULAR FORMULA:\", my_cpd.molecular_formula)\n",
        "#print(\"MOLECULAR WEIGHT:\", my_cpd.molecular_weight)\n",
        "#print(\"CANONICAL SMILES:\", my_cpd.canonical_smiles)\n",
        "#print(\"ISOMERIC SMILES:\", my_cpd.isomeric_smiles)\n",
        "\n",
        "df = pcp.get_properties(properties = ['molecular_formula', \n",
        "                                      'molecular_weight', \n",
        "                                      'charge',\n",
        "                                      'xlogp', \n",
        "                                      'TPSA',\n",
        "                                      'HBondDonorCount',\n",
        "                                      'HBondAcceptorCount',\n",
        "                                      'canonical_smiles',\n",
        "                                      'isomeric_smiles', \n",
        "                                      'rotatable_bond_count'], \n",
        "                         identifier = my_cids, \n",
        "                         as_dataframe=True)\n",
        "print(df)\n",
        "\n",
        "# però mancano pittogrammi, CAS e altri codici (ECHA e HSDB)\n",
        "\n",
        "\n"
      ],
      "metadata": {
        "colab": {
          "base_uri": "https://localhost:8080/"
        },
        "id": "5gZNFlbJPRKa",
        "outputId": "87c89d85-e948-4c67-f7c7-ee3bb7669400"
      },
      "execution_count": 66,
      "outputs": [
        {
          "output_type": "stream",
          "name": "stdout",
          "text": [
            "       MolecularFormula MolecularWeight  ... HBondAcceptorCount RotatableBondCount\n",
            "CID                                      ...                                      \n",
            "2244             C9H8O4          180.16  ...                  4                  3\n",
            "643460           C6H8O2          112.13  ...                  2                  2\n",
            "\n",
            "[2 rows x 10 columns]\n"
          ]
        }
      ]
    },
    {
      "cell_type": "code",
      "source": [
        "# Write data into a csv and download it from colab\n",
        "\n",
        "from google.colab import files\n",
        "\n",
        "df.to_csv('results.csv')\n",
        "\n",
        "files.download('results.csv')\n"
      ],
      "metadata": {
        "colab": {
          "base_uri": "https://localhost:8080/",
          "height": 17
        },
        "id": "Dz8gpEdzl4S-",
        "outputId": "963df131-9e95-4519-ca4e-4d5281b3cf19"
      },
      "execution_count": 67,
      "outputs": [
        {
          "output_type": "display_data",
          "data": {
            "application/javascript": [
              "\n",
              "    async function download(id, filename, size) {\n",
              "      if (!google.colab.kernel.accessAllowed) {\n",
              "        return;\n",
              "      }\n",
              "      const div = document.createElement('div');\n",
              "      const label = document.createElement('label');\n",
              "      label.textContent = `Downloading \"${filename}\": `;\n",
              "      div.appendChild(label);\n",
              "      const progress = document.createElement('progress');\n",
              "      progress.max = size;\n",
              "      div.appendChild(progress);\n",
              "      document.body.appendChild(div);\n",
              "\n",
              "      const buffers = [];\n",
              "      let downloaded = 0;\n",
              "\n",
              "      const channel = await google.colab.kernel.comms.open(id);\n",
              "      // Send a message to notify the kernel that we're ready.\n",
              "      channel.send({})\n",
              "\n",
              "      for await (const message of channel.messages) {\n",
              "        // Send a message to notify the kernel that we're ready.\n",
              "        channel.send({})\n",
              "        if (message.buffers) {\n",
              "          for (const buffer of message.buffers) {\n",
              "            buffers.push(buffer);\n",
              "            downloaded += buffer.byteLength;\n",
              "            progress.value = downloaded;\n",
              "          }\n",
              "        }\n",
              "      }\n",
              "      const blob = new Blob(buffers, {type: 'application/binary'});\n",
              "      const a = document.createElement('a');\n",
              "      a.href = window.URL.createObjectURL(blob);\n",
              "      a.download = filename;\n",
              "      div.appendChild(a);\n",
              "      a.click();\n",
              "      div.remove();\n",
              "    }\n",
              "  "
            ],
            "text/plain": [
              "<IPython.core.display.Javascript object>"
            ]
          },
          "metadata": {}
        },
        {
          "output_type": "display_data",
          "data": {
            "application/javascript": [
              "download(\"download_60e30852-8c26-4fa2-b2cd-5a6c68ccc864\", \"result.csv\", 295)"
            ],
            "text/plain": [
              "<IPython.core.display.Javascript object>"
            ]
          },
          "metadata": {}
        }
      ]
    },
    {
      "cell_type": "code",
      "execution_count": 59,
      "metadata": {
        "id": "53wXdJIparvz"
      },
      "outputs": [],
      "source": [
        "import requests\n",
        "from bs4 import BeautifulSoup\n",
        "import re"
      ]
    },
    {
      "cell_type": "code",
      "source": [
        "html.find_all(\"PC-Urn_label\")"
      ],
      "metadata": {
        "colab": {
          "base_uri": "https://localhost:8080/"
        },
        "id": "Z_7NT0wwbhfm",
        "outputId": "059455a8-0b53-4a83-bf72-fbb0772cd327"
      },
      "execution_count": 60,
      "outputs": [
        {
          "output_type": "execute_result",
          "data": {
            "text/plain": [
              "[<PC-Urn_label>Compound</PC-Urn_label>,\n",
              " <PC-Urn_label>Compound Complexity</PC-Urn_label>,\n",
              " <PC-Urn_label>Count</PC-Urn_label>,\n",
              " <PC-Urn_label>Count</PC-Urn_label>,\n",
              " <PC-Urn_label>Count</PC-Urn_label>,\n",
              " <PC-Urn_label>Fingerprint</PC-Urn_label>,\n",
              " <PC-Urn_label>IUPAC Name</PC-Urn_label>,\n",
              " <PC-Urn_label>IUPAC Name</PC-Urn_label>,\n",
              " <PC-Urn_label>IUPAC Name</PC-Urn_label>,\n",
              " <PC-Urn_label>IUPAC Name</PC-Urn_label>,\n",
              " <PC-Urn_label>IUPAC Name</PC-Urn_label>,\n",
              " <PC-Urn_label>IUPAC Name</PC-Urn_label>,\n",
              " <PC-Urn_label>InChI</PC-Urn_label>,\n",
              " <PC-Urn_label>InChIKey</PC-Urn_label>,\n",
              " <PC-Urn_label>Log P</PC-Urn_label>,\n",
              " <PC-Urn_label>Mass</PC-Urn_label>,\n",
              " <PC-Urn_label>Molecular Formula</PC-Urn_label>,\n",
              " <PC-Urn_label>Molecular Weight</PC-Urn_label>,\n",
              " <PC-Urn_label>SMILES</PC-Urn_label>,\n",
              " <PC-Urn_label>SMILES</PC-Urn_label>,\n",
              " <PC-Urn_label>Topological</PC-Urn_label>,\n",
              " <PC-Urn_label>Weight</PC-Urn_label>]"
            ]
          },
          "metadata": {},
          "execution_count": 60
        }
      ]
    },
    {
      "cell_type": "code",
      "source": [
        "mw_tag = html.find(name=\"PC-Urn_label\", string=\"Molecular Weight\")\n",
        "mw_tag"
      ],
      "metadata": {
        "colab": {
          "base_uri": "https://localhost:8080/"
        },
        "id": "-X7sRKE8blFm",
        "outputId": "b456b55c-4c81-47f6-cd8e-ceea538ecd00"
      },
      "execution_count": null,
      "outputs": [
        {
          "output_type": "execute_result",
          "data": {
            "text/plain": [
              "<PC-Urn_label>Molecular Weight</PC-Urn_label>"
            ]
          },
          "metadata": {},
          "execution_count": 6
        }
      ]
    },
    {
      "cell_type": "code",
      "source": [
        "mw_parents = mw_tag.find_parent(\"PC-InfoData\")\n",
        "mw_parents"
      ],
      "metadata": {
        "colab": {
          "base_uri": "https://localhost:8080/"
        },
        "id": "mdCT3PJ2bphe",
        "outputId": "c81b9900-8ae2-4750-c69c-a4560c790791"
      },
      "execution_count": null,
      "outputs": [
        {
          "output_type": "execute_result",
          "data": {
            "text/plain": [
              "<PC-InfoData>\n",
              "<PC-InfoData_urn>\n",
              "<PC-Urn>\n",
              "<PC-Urn_label>Molecular Weight</PC-Urn_label>\n",
              "<PC-Urn_datatype>\n",
              "<PC-UrnDataType value=\"string\">1</PC-UrnDataType>\n",
              "</PC-Urn_datatype>\n",
              "<PC-Urn_version>2.1</PC-Urn_version>\n",
              "<PC-Urn_software>PubChem</PC-Urn_software>\n",
              "<PC-Urn_source>ncbi.nlm.nih.gov</PC-Urn_source>\n",
              "<PC-Urn_release>2021.05.07</PC-Urn_release>\n",
              "</PC-Urn>\n",
              "</PC-InfoData_urn>\n",
              "<PC-InfoData_value>\n",
              "<PC-InfoData_value_sval>180.16</PC-InfoData_value_sval>\n",
              "</PC-InfoData_value>\n",
              "</PC-InfoData>"
            ]
          },
          "metadata": {},
          "execution_count": 7
        }
      ]
    },
    {
      "cell_type": "code",
      "source": [
        "mw = mw_parents.find('PC-InfoData_value_sval').string\n",
        "mw"
      ],
      "metadata": {
        "colab": {
          "base_uri": "https://localhost:8080/",
          "height": 35
        },
        "id": "YA3emJH1brAX",
        "outputId": "b4824270-2498-4ece-e9c5-e98e8c128304"
      },
      "execution_count": null,
      "outputs": [
        {
          "output_type": "execute_result",
          "data": {
            "application/vnd.google.colaboratory.intrinsic+json": {
              "type": "string"
            },
            "text/plain": [
              "'180.16'"
            ]
          },
          "metadata": {},
          "execution_count": 8
        }
      ]
    },
    {
      "cell_type": "code",
      "source": [
        "mp_tag = html.find(name='TOCHeading', string='Melting Point')\n",
        "mp_tag"
      ],
      "metadata": {
        "id": "R-oyPBr3b65f"
      },
      "execution_count": null,
      "outputs": []
    },
    {
      "cell_type": "code",
      "source": [
        "mp_tag.find_next_sibling('Information').find(name='String').string"
      ],
      "metadata": {
        "colab": {
          "base_uri": "https://localhost:8080/",
          "height": 165
        },
        "id": "pmv3NKIMb9_W",
        "outputId": "b964d135-b438-4b60-e6b2-1a9acfb885e6"
      },
      "execution_count": null,
      "outputs": [
        {
          "output_type": "error",
          "ename": "AttributeError",
          "evalue": "ignored",
          "traceback": [
            "\u001b[0;31m---------------------------------------------------------------------------\u001b[0m",
            "\u001b[0;31mAttributeError\u001b[0m                            Traceback (most recent call last)",
            "\u001b[0;32m<ipython-input-10-046c995ba737>\u001b[0m in \u001b[0;36m<module>\u001b[0;34m()\u001b[0m\n\u001b[0;32m----> 1\u001b[0;31m \u001b[0mmp_tag\u001b[0m\u001b[0;34m.\u001b[0m\u001b[0mfind_next_sibling\u001b[0m\u001b[0;34m(\u001b[0m\u001b[0;34m'Information'\u001b[0m\u001b[0;34m)\u001b[0m\u001b[0;34m.\u001b[0m\u001b[0mfind\u001b[0m\u001b[0;34m(\u001b[0m\u001b[0mname\u001b[0m\u001b[0;34m=\u001b[0m\u001b[0;34m'String'\u001b[0m\u001b[0;34m)\u001b[0m\u001b[0;34m.\u001b[0m\u001b[0mstring\u001b[0m\u001b[0;34m\u001b[0m\u001b[0;34m\u001b[0m\u001b[0m\n\u001b[0m",
            "\u001b[0;31mAttributeError\u001b[0m: 'NoneType' object has no attribute 'find_next_sibling'"
          ]
        }
      ]
    },
    {
      "cell_type": "code",
      "source": [
        "#cid = \"2244\"\n",
        "#url = \"https://pubchem.ncbi.nlm.nih.gov/rest/pug/compound/cid/\"+cid+\"/xml\"\n",
        "#data = requests.get(url)\n",
        "#html = BeautifulSoup(data.content, \"xml\")\n",
        "#all = html.find_all(\"PC-Urn_label\")\n",
        "#print(all)\n",
        "\n",
        "#Molecular Formula\n",
        "\n",
        "def get_xmldata_from_cid(cid):\n",
        "  print(\"Extract xml data for cid\", cid, \":\\n\")\n",
        "  url = \"https://pubchem.ncbi.nlm.nih.gov/rest/pug/compound/cid/\"+cid+\"/xml\"\n",
        "  data = requests.get(url)\n",
        "  xmldata = BeautifulSoup(data.content, \"xml\")\n",
        "  return(xmldata)\n",
        "\n",
        "my_cid = \"643460\"\n",
        "cid_xmldata = get_xmldata_from_cid(my_cid)\n",
        "\n",
        "# Questo stampa tutti i dati\n",
        "print(\"cid_xmldata:\\n\", cid_xmldata, \"\\n\")\n",
        "\n",
        "all = cid_xmldata.find_all(\"PC-Urn_label\")\n",
        "#print(all)\n",
        "\n",
        "\n",
        "\n",
        "\n"
      ],
      "metadata": {
        "id": "xjXT-9ETcaK-"
      },
      "execution_count": null,
      "outputs": []
    },
    {
      "cell_type": "code",
      "source": [
        "\n",
        "def from_xmldata_get_molecular_formula(xmldata):\n",
        "  tag = xmldata.find(name=\"PC-Urn_label\", string=\"Molecular Formula\")\n",
        "  parents = mf_tag.find_parent(\"PC-InfoData\")\n",
        "  return(parents.find('PC-InfoData_value_sval').string)\n",
        "\n",
        "mf = from_xmldata_get_molecular_formula(xmldata=cid_xmldata)\n",
        "print(\"Molecular Formula:\", mf, \"\\n\")\n"
      ],
      "metadata": {
        "colab": {
          "base_uri": "https://localhost:8080/"
        },
        "id": "DIw3gCH5LCJv",
        "outputId": "777938e5-a340-4bd3-b0dc-0190f541414d"
      },
      "execution_count": 32,
      "outputs": [
        {
          "output_type": "stream",
          "name": "stdout",
          "text": [
            "Molecular Formula: C9H8O4 \n",
            "\n"
          ]
        }
      ]
    },
    {
      "cell_type": "code",
      "source": [
        "def from_xmldata_get_molecular_weight(xmldata):\n",
        "  tag = xmldata.find(name=\"PC-Urn_label\", string=\"Molecular Weight\")\n",
        "  parents = tag.find_parent(\"PC-InfoData\")\n",
        "  return(parents.find('PC-InfoData_value_sval').string)\n",
        "\n",
        "mw = from_xmldata_get_molecular_weight(xmldata=cid_xmldata)\n",
        "print(\"Molecular Weight:\", mw, \"\\n\")\n"
      ],
      "metadata": {
        "colab": {
          "base_uri": "https://localhost:8080/"
        },
        "id": "i7mG-6x7L8lm",
        "outputId": "49b9f935-953e-4828-c69b-0fa7ed9b542b"
      },
      "execution_count": 33,
      "outputs": [
        {
          "output_type": "stream",
          "name": "stdout",
          "text": [
            "Molecular Weight: 180.16 \n",
            "\n"
          ]
        }
      ]
    },
    {
      "cell_type": "code",
      "source": [
        "def from_xmldata_get_canonical_smiles(xmldata):\n",
        "  tag = xmldata.find(name=\"PC-Urn_label\", string=\"SMILES\")\n",
        "  #print(tag)\n",
        "  parents = tag.find_parent(\"PC-InfoData\")\n",
        "  #print(parents)\n",
        "  return(parents.find('PC-InfoData_value_sval').string)\n",
        "  #return(\"TMP\")\n",
        "\n",
        "smi = from_xmldata_get_canonical_smiles(xmldata=cid_xmldata)\n",
        "print(\"Canonical SMILES:\", smi, \"\\n\")"
      ],
      "metadata": {
        "colab": {
          "base_uri": "https://localhost:8080/"
        },
        "id": "I2coSIjjMq29",
        "outputId": "39bde501-9be9-466e-dd98-78d7759118a2"
      },
      "execution_count": 37,
      "outputs": [
        {
          "output_type": "stream",
          "name": "stdout",
          "text": [
            "Canonical SMILES: CC(=O)OC1=CC=CC=C1C(=O)O \n",
            "\n"
          ]
        }
      ]
    },
    {
      "cell_type": "code",
      "source": [
        "# Molecular weight\n",
        "#mw_tag = html.find(name=\"PC-Urn_label\", string=\"Molecular Weight\")\n",
        "#print(mw_tag)\n",
        "#mw_parents = mw_tag.find_parent(\"PC-InfoData\")\n",
        "#print(mw_parents)\n",
        "#mw = mw_parents.find('PC-InfoData_value_sval').string\n",
        "#print(\"MW:\", mw, \"\\n\")\n",
        "\n",
        "#mp_tag = html.find(name=\"TOCHeading\", string=\"Melting Point\")\n",
        "#print(mp_tag)\n",
        "\n",
        "def get_molecular_formula(cid):\n",
        "  print(\"Extract molecular formula for cid\", cid, \":\\n\")\n",
        "  url = \"https://pubchem.ncbi.nlm.nih.gov/rest/pug/compound/cid/\"+cid+\"/xml\"\n",
        "  data = requests.get(url)\n",
        "  html = BeautifulSoup(data.content, \"xml\")\n",
        "  mf_tag = html.find(name=\"PC-Urn_label\", string=\"Molecular Formula\")\n",
        "  print(mf_tag)\n",
        "  mf_parents = mf_tag.find_parent(\"PC-InfoData\")\n",
        "  print(mf_parents)\n",
        "  mf = mf_parents.find('PC-InfoData_value_sval').string\n",
        "  return(mf)\n",
        "\n",
        "#mf = get_molecular_formula(\"2244\")\n",
        "#print(\"Molecular Formula:\", mf, \"\\n\")"
      ],
      "metadata": {
        "id": "i3pWTX5jJTvg"
      },
      "execution_count": null,
      "outputs": []
    }
  ]
}