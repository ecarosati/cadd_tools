{
  "nbformat": 4,
  "nbformat_minor": 0,
  "metadata": {
    "colab": {
      "name": "Untitled1.ipynb",
      "provenance": [],
      "collapsed_sections": [],
      "authorship_tag": "ABX9TyP+RNjKwABHBfliaE6EBDCa",
      "include_colab_link": true
    },
    "kernelspec": {
      "name": "python3",
      "display_name": "Python 3"
    },
    "language_info": {
      "name": "python"
    }
  },
  "cells": [
    {
      "cell_type": "markdown",
      "metadata": {
        "id": "view-in-github",
        "colab_type": "text"
      },
      "source": [
        "<a href=\"https://colab.research.google.com/github/ecarosati/cadd_tools/blob/main/Pubchem.ipynb\" target=\"_parent\"><img src=\"https://colab.research.google.com/assets/colab-badge.svg\" alt=\"Open In Colab\"/></a>"
      ]
    },
    {
      "cell_type": "code",
      "source": [
        "# Installiamo il modulo pubchempy\n",
        "!pip install pubchempy"
      ],
      "metadata": {
        "colab": {
          "base_uri": "https://localhost:8080/"
        },
        "id": "di0bj-BhOM6U",
        "outputId": "bf1c5e81-5bf9-4fc6-f80e-b4c96d6d3085"
      },
      "execution_count": null,
      "outputs": [
        {
          "output_type": "stream",
          "name": "stdout",
          "text": [
            "Collecting pubchempy\n",
            "  Downloading PubChemPy-1.0.4.tar.gz (29 kB)\n",
            "Building wheels for collected packages: pubchempy\n",
            "  Building wheel for pubchempy (setup.py) ... \u001b[?25l\u001b[?25hdone\n",
            "  Created wheel for pubchempy: filename=PubChemPy-1.0.4-py3-none-any.whl size=13834 sha256=9f118495dfed78873eb27cc4dcca33a035be31de67ec5338f64d4759517fac54\n",
            "  Stored in directory: /root/.cache/pip/wheels/7c/3d/8c/8192697412e9899dc55bbbb08bbc1197bef333caaa2a71c448\n",
            "Successfully built pubchempy\n",
            "Installing collected packages: pubchempy\n",
            "Successfully installed pubchempy-1.0.4\n"
          ]
        }
      ]
    },
    {
      "cell_type": "code",
      "source": [
        "# Importiamo il modulo pubchempy\n",
        "\n",
        "import pubchempy as pcp\n",
        "\n",
        "# Estraiamo le informazioni da una lista di cids\n",
        "\n",
        "#my_cid = \"643460\"\n",
        "#my_cpd = pcp.Compound.from_cid(my_cid)\n",
        "#print(\"MOLECULAR FORMULA:\", my_cpd.molecular_formula)\n",
        "#print(\"MOLECULAR WEIGHT:\", my_cpd.molecular_weight)\n",
        "#print(\"CANONICAL SMILES:\", my_cpd.canonical_smiles)\n",
        "#print(\"ISOMERIC SMILES:\", my_cpd.isomeric_smiles)\n",
        "\n",
        "my_cids = [\"2244\", \"643460\"]\n",
        "\n",
        "df = pcp.get_properties(properties = ['molecular_formula', \n",
        "                                      'molecular_weight', \n",
        "                                      'charge',\n",
        "                                      'xlogp', \n",
        "                                      'TPSA',\n",
        "                                      'HBondDonorCount',\n",
        "                                      'HBondAcceptorCount',\n",
        "                                      'canonical_smiles',\n",
        "                                      'isomeric_smiles', \n",
        "                                      'rotatable_bond_count'], \n",
        "                         identifier = my_cids, \n",
        "                         as_dataframe=True)\n",
        "print(df)\n",
        "\n",
        "# però mancano pittogrammi, CAS e altri codici (ECHA e HSDB)\n",
        "\n",
        "\n"
      ],
      "metadata": {
        "colab": {
          "base_uri": "https://localhost:8080/"
        },
        "id": "5gZNFlbJPRKa",
        "outputId": "87c89d85-e948-4c67-f7c7-ee3bb7669400"
      },
      "execution_count": null,
      "outputs": [
        {
          "output_type": "stream",
          "name": "stdout",
          "text": [
            "       MolecularFormula MolecularWeight  ... HBondAcceptorCount RotatableBondCount\n",
            "CID                                      ...                                      \n",
            "2244             C9H8O4          180.16  ...                  4                  3\n",
            "643460           C6H8O2          112.13  ...                  2                  2\n",
            "\n",
            "[2 rows x 10 columns]\n"
          ]
        }
      ]
    },
    {
      "cell_type": "code",
      "source": [
        "# Write data into a csv and download it from colab\n",
        "\n",
        "from google.colab import files\n",
        "\n",
        "df.to_csv('results.csv')\n",
        "\n",
        "files.download('results.csv')\n"
      ],
      "metadata": {
        "colab": {
          "base_uri": "https://localhost:8080/",
          "height": 17
        },
        "id": "Dz8gpEdzl4S-",
        "outputId": "963df131-9e95-4519-ca4e-4d5281b3cf19"
      },
      "execution_count": null,
      "outputs": [
        {
          "output_type": "display_data",
          "data": {
            "application/javascript": [
              "\n",
              "    async function download(id, filename, size) {\n",
              "      if (!google.colab.kernel.accessAllowed) {\n",
              "        return;\n",
              "      }\n",
              "      const div = document.createElement('div');\n",
              "      const label = document.createElement('label');\n",
              "      label.textContent = `Downloading \"${filename}\": `;\n",
              "      div.appendChild(label);\n",
              "      const progress = document.createElement('progress');\n",
              "      progress.max = size;\n",
              "      div.appendChild(progress);\n",
              "      document.body.appendChild(div);\n",
              "\n",
              "      const buffers = [];\n",
              "      let downloaded = 0;\n",
              "\n",
              "      const channel = await google.colab.kernel.comms.open(id);\n",
              "      // Send a message to notify the kernel that we're ready.\n",
              "      channel.send({})\n",
              "\n",
              "      for await (const message of channel.messages) {\n",
              "        // Send a message to notify the kernel that we're ready.\n",
              "        channel.send({})\n",
              "        if (message.buffers) {\n",
              "          for (const buffer of message.buffers) {\n",
              "            buffers.push(buffer);\n",
              "            downloaded += buffer.byteLength;\n",
              "            progress.value = downloaded;\n",
              "          }\n",
              "        }\n",
              "      }\n",
              "      const blob = new Blob(buffers, {type: 'application/binary'});\n",
              "      const a = document.createElement('a');\n",
              "      a.href = window.URL.createObjectURL(blob);\n",
              "      a.download = filename;\n",
              "      div.appendChild(a);\n",
              "      a.click();\n",
              "      div.remove();\n",
              "    }\n",
              "  "
            ],
            "text/plain": [
              "<IPython.core.display.Javascript object>"
            ]
          },
          "metadata": {}
        },
        {
          "output_type": "display_data",
          "data": {
            "application/javascript": [
              "download(\"download_60e30852-8c26-4fa2-b2cd-5a6c68ccc864\", \"result.csv\", 295)"
            ],
            "text/plain": [
              "<IPython.core.display.Javascript object>"
            ]
          },
          "metadata": {}
        }
      ]
    }
  ]
}